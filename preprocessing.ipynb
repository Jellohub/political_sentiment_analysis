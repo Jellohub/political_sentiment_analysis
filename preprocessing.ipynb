{
 "cells": [
  {
   "cell_type": "markdown",
   "id": "905ff620",
   "metadata": {},
   "source": [
    "# Flatiron Capstone Project – Notebook #2: Preprocessing\n",
    "\n",
    "Student name: **Angelo Turri**\n",
    "\n",
    "Student pace: **self paced**\n",
    "\n",
    "Project finish date: **1/19/24**\n",
    "\n",
    "Instructor name: **Mark Barbour**\n",
    "\n",
    "# Instructions\n",
    "\n",
    "Due to the size of this project, there are four notebooks instead of one. The proper order to execute these notebooks is as follows:\n",
    "\n",
    "- **Gathering Data**\n",
    "- **Preprocessing** <---- You are here\n",
    "- **Feature Engineering**\n",
    "- **Modeling**"
   ]
  },
  {
   "cell_type": "markdown",
   "id": "b3f8b75b",
   "metadata": {},
   "source": [
    "# Preprocessing Steps\n",
    "\n",
    "### Removing hyperlinks and extraneous characters\n",
    "\n",
    "- I used a regex to eliminate hyperlinks. The regex wasn't perfect, but it was very good. It reduced the number of posts with hyperlinks from 108,228 to just 229. That's a 99.8% reduction in posts with hyperlinks.\n",
    "- There were several other combinations of characters we replaced, such as \"&gt;\" that repeated many times. These are longhand notations of certain special characters like \">\" or \"<\". They can be looked up [on this website](https://www.htmlhelp.com/reference/html40/entities/special.html).\n",
    "\n",
    "### Tokenizing posts\n",
    "- Tokenizing strings is the process of separating them into lists, where each element is an individual word in that sring. I used another regex that identified words and eliminated special characters such as punctuation.\n",
    "- Tokenization enables easy stopword removal and the creation of bigrams and trigrams.\n",
    "\n",
    "### Stopword removal\n",
    "- Stopwords are commonly used words that significantly increase the burden on models while contributing very little. We removed stopwords contained in nltk's stopword list. This resulted in the removal of 22.3 million words, about half of all original words.\n",
    "\n",
    "### Calculating post lengths\n",
    "- Enables the removal of insanely long posts and create more reasonably distributed data.\n",
    "\n",
    "### Creating bigrams and trigrams\n",
    "- Individual words are one means of extracting insights from this data, but bigrams and trigrams carry more information that individual words. By extracting bigrams and trigrams, we have two more options for analysis and the potential to give more meaningful recommendations to our stakeholder.\n",
    "\n",
    "### Removing bots\n",
    "- All posts from the universal reddit moderator, AutoModerator, were removed.\n",
    "- Posts with the words \"bot made by u/reddit_username\" were removed.\n",
    "- Authors with the word \"bot\" or \"Bot\" in their name were removed.\n",
    "- Posts with the words \"I'm a bot\" were removed.\n",
    "\n",
    "These measures weren't perfect - they probably didn't remove all the bots, and they did remove some posts by real people. However, the vast majority of posts removed by these measures were made by bots.\n",
    "\n",
    "If you're skeptical about the effectiveness of these measures, or you think they might have been too extensive, head to the Appendix at the end of this notebook. It shows you the kinds of posts each measure removed. These queries take up quite a bit of space, which is why I kept them at the end of the notebook.\n",
    "\n",
    "### Capping post length at 200 words\n",
    "- Looking at the distribution of post length, it was extremely skewed to the right. Capping post length at 200 words results in a much more reasonable distribution.\n",
    "\n",
    "### Giving post score a hard boundary of (-25, 100)\n",
    "- Looking at the distribution of post scores, it had long tails to both the right and left. A lower boundary of -25 and an upper boundary of 100 returned the distribution to a more reasonable state.\n",
    "\n",
    "### Spam removal\n",
    "- Removing posts longer than 200 words eliminated some spam, but not all.\n",
    "- I used the most common unigrams, bigrams, and trigrams to locate any other spam.\n",
    "    - Posts containing a unigram four or more times in a row were removed.\n",
    "    - Posts containing a bigram three or more times in a row were removed.\n",
    "    - Posts containing a trigram two or more times in a row were removed.\n",
    "- Even after all these measures, trigrams such as \"source script protect\" continued to appear in the most common phrases. I manually removed these.\n",
    "- All combined spam from this notebook is stored externally in a single dataframe, \"spam.parquet.\""
   ]
  },
  {
   "cell_type": "markdown",
   "id": "ae453064",
   "metadata": {},
   "source": [
    "# Importing Packages"
   ]
  },
  {
   "cell_type": "code",
   "execution_count": 3,
   "id": "1bcd434f",
   "metadata": {
    "scrolled": true
   },
   "outputs": [],
   "source": [
    "import pandas as pd\n",
    "from matplotlib import pyplot as plt\n",
    "import numpy as np\n",
    "\n",
    "from IPython.display import clear_output, display_html, Markdown, display\n",
    "import time\n",
    "from tqdm.notebook import tqdm\n",
    "tqdm.pandas()\n",
    "\n",
    "import re\n",
    "\n",
    "import nltk\n",
    "from nltk.sentiment import SentimentIntensityAnalyzer\n",
    "from nltk.corpus import stopwords\n",
    "from nltk import word_tokenize\n",
    "from  nltk import FreqDist\n",
    "from nltk.tag import pos_tag\n",
    "from nltk.stem.wordnet import WordNetLemmatizer\n",
    "from nltk.tag.perceptron import PerceptronTagger\n",
    "\n",
    "import warnings\n",
    "warnings.filterwarnings('ignore')"
   ]
  },
  {
   "cell_type": "code",
   "execution_count": 4,
   "id": "9d3cc8fe",
   "metadata": {},
   "outputs": [
    {
     "ename": "NameError",
     "evalue": "name 'string' is not defined",
     "output_type": "error",
     "traceback": [
      "\u001b[0;31m---------------------------------------------------------------------------\u001b[0m",
      "\u001b[0;31mNameError\u001b[0m                                 Traceback (most recent call last)",
      "Cell \u001b[0;32mIn[4], line 2\u001b[0m\n\u001b[1;32m      1\u001b[0m stopwords_list \u001b[38;5;241m=\u001b[39m stopwords\u001b[38;5;241m.\u001b[39mwords(\u001b[38;5;124m'\u001b[39m\u001b[38;5;124menglish\u001b[39m\u001b[38;5;124m'\u001b[39m)\n\u001b[0;32m----> 2\u001b[0m stopwords_list \u001b[38;5;241m+\u001b[39m\u001b[38;5;241m=\u001b[39m \u001b[38;5;28mlist\u001b[39m(string\u001b[38;5;241m.\u001b[39mpunctuation)\n\u001b[1;32m      3\u001b[0m stopwords_list \u001b[38;5;241m+\u001b[39m\u001b[38;5;241m=\u001b[39m [\u001b[38;5;124m'\u001b[39m\u001b[38;5;124m``\u001b[39m\u001b[38;5;124m'\u001b[39m, \u001b[38;5;124m\"\u001b[39m\u001b[38;5;124m'\u001b[39m\u001b[38;5;124m'\u001b[39m\u001b[38;5;124m\"\u001b[39m, \u001b[38;5;124m\"\u001b[39m\u001b[38;5;124m’\u001b[39m\u001b[38;5;124m\"\u001b[39m, \u001b[38;5;124m\"\u001b[39m\u001b[38;5;124m“\u001b[39m\u001b[38;5;124m\"\u001b[39m, \u001b[38;5;124m\"\u001b[39m\u001b[38;5;124m”\u001b[39m\u001b[38;5;124m\"\u001b[39m]\n\u001b[1;32m      4\u001b[0m stopwords_list \u001b[38;5;241m=\u001b[39m \u001b[38;5;28mset\u001b[39m(stopwords_list)\n",
      "\u001b[0;31mNameError\u001b[0m: name 'string' is not defined"
     ]
    }
   ],
   "source": [
    "stopwords_list = stopwords.words('english')\n",
    "stopwords_list += list(string.punctuation)\n",
    "stopwords_list += ['``', \"''\", \"’\", \"“\", \"”\"]\n",
    "stopwords_list = set(stopwords_list)"
   ]
  },
  {
   "cell_type": "code",
   "execution_count": 1,
   "id": "141a7405",
   "metadata": {},
   "outputs": [
    {
     "ename": "NameError",
     "evalue": "name 'stopwords_list' is not defined",
     "output_type": "error",
     "traceback": [
      "\u001b[0;31m---------------------------------------------------------------------------\u001b[0m",
      "\u001b[0;31mNameError\u001b[0m                                 Traceback (most recent call last)",
      "Cell \u001b[0;32mIn[1], line 1\u001b[0m\n\u001b[0;32m----> 1\u001b[0m stopwords_list\n",
      "\u001b[0;31mNameError\u001b[0m: name 'stopwords_list' is not defined"
     ]
    }
   ],
   "source": [
    "stopwords_list"
   ]
  },
  {
   "cell_type": "markdown",
   "id": "34f87533",
   "metadata": {},
   "source": [
    "# Importing data"
   ]
  },
  {
   "cell_type": "code",
   "execution_count": 9,
   "id": "6062a81f",
   "metadata": {},
   "outputs": [],
   "source": [
    "name = 'the_donald_comments'\n",
    "df = pd.read_parquet(path=f'data/stored/{name}.parquet')"
   ]
  },
  {
   "cell_type": "markdown",
   "id": "07e0632a",
   "metadata": {},
   "source": [
    "# Removing hyperlinks and extraneous characters\n",
    "\n",
    "I use a hyperlink regex provided [here](https://stackoverflow.com/questions/6038061/regular-expression-to-find-urls-within-a-string) to find and replace hyperlinks in my data. Initially, there were 32,000 posts with hyperlinks, and after using this regex, only 91 remained. The regex wasn't perfect, but it was extremely effective, successfully removing all hyperlinks from 99.97% of posts that originally had them."
   ]
  },
  {
   "cell_type": "code",
   "execution_count": 10,
   "id": "b0e73830",
   "metadata": {},
   "outputs": [
    {
     "name": "stdout",
     "output_type": "stream",
     "text": [
      "Number of posts with hyperlinks: 108228\n"
     ]
    }
   ],
   "source": [
    "hyperlink_regex = '(http|ftp|https):\\/\\/([\\w_-]+(?:(?:\\.[\\w_-]+)+))([\\w.,@?^=%&:\\/~+#-]*[\\w@?^=%&\\/~+#-])'\n",
    "len_before = len(df[df.post.str.contains('http')])\n",
    "print(f\"Number of posts with hyperlinks: {len_before}\")"
   ]
  },
  {
   "cell_type": "code",
   "execution_count": 11,
   "id": "074cac87",
   "metadata": {},
   "outputs": [],
   "source": [
    "to_replace = [hyperlink_regex, \"&gt;\", \"&lt;\", \"\\n\", \"&amp;\", \"#x200B;\"]\n",
    "\n",
    "def remove_hyperlink(text):\n",
    "    for string in to_replace:\n",
    "        text = re.sub(string, \" \", text)\n",
    "    return text"
   ]
  },
  {
   "cell_type": "code",
   "execution_count": 12,
   "id": "493017ba",
   "metadata": {},
   "outputs": [
    {
     "data": {
      "application/vnd.jupyter.widget-view+json": {
       "model_id": "d769fda4190948519adb109076c4992c",
       "version_major": 2,
       "version_minor": 0
      },
      "text/plain": [
       "  0%|          | 0/1894969 [00:00<?, ?it/s]"
      ]
     },
     "metadata": {},
     "output_type": "display_data"
    }
   ],
   "source": [
    "df['hyperlinks_removed'] = df['post'].progress_apply(remove_hyperlink)"
   ]
  },
  {
   "cell_type": "code",
   "execution_count": 13,
   "id": "c4aa2a53",
   "metadata": {},
   "outputs": [
    {
     "data": {
      "text/plain": [
       "229"
      ]
     },
     "execution_count": 13,
     "metadata": {},
     "output_type": "execute_result"
    }
   ],
   "source": [
    "len(df[df.hyperlinks_removed.str.contains('http')])"
   ]
  },
  {
   "cell_type": "markdown",
   "id": "9a82e6f6",
   "metadata": {},
   "source": [
    "# Tokenizing posts\n",
    "\n",
    "Tokenizing a string turns into a list, where each element is one of the words in the original string. Tokenizing enables easy stopword removal, and the creation of bigrams/trigrams."
   ]
  },
  {
   "cell_type": "code",
   "execution_count": 14,
   "id": "f2557b3d",
   "metadata": {},
   "outputs": [
    {
     "data": {
      "application/vnd.jupyter.widget-view+json": {
       "model_id": "26ffd19beb04461e803fc8716182b164",
       "version_major": 2,
       "version_minor": 0
      },
      "text/plain": [
       "  0%|          | 0/1894969 [00:00<?, ?it/s]"
      ]
     },
     "metadata": {},
     "output_type": "display_data"
    }
   ],
   "source": [
    "WORD = re.compile(r'\\w+')\n",
    "df['tokenized'] = df['hyperlinks_removed'].progress_apply(lambda x: WORD.findall(x))"
   ]
  },
  {
   "cell_type": "code",
   "execution_count": 15,
   "id": "04fcdc9d",
   "metadata": {},
   "outputs": [
    {
     "data": {
      "application/vnd.jupyter.widget-view+json": {
       "model_id": "9f8fa676d3fe4e88ad2ccd6ebd2b0d88",
       "version_major": 2,
       "version_minor": 0
      },
      "text/plain": [
       "  0%|          | 0/1894969 [00:00<?, ?it/s]"
      ]
     },
     "metadata": {},
     "output_type": "display_data"
    }
   ],
   "source": [
    "# Lowercasing words will enable us to create accurate word counts.\n",
    "# If we don't lowercase words, then the word \"Fish\" will be treated differently from the word \"fish,\"\n",
    "# which shouldn't happen.\n",
    "\n",
    "\n",
    "# It will also enable us to remove stopwords; our list of stopwords is all in lowercase.\n",
    "\n",
    "df['lowercase'] = df['tokenized'].progress_apply(lambda x: [w.lower() for w in x])"
   ]
  },
  {
   "cell_type": "markdown",
   "id": "6ce47146",
   "metadata": {},
   "source": [
    "# Removing stopwords\n",
    "\n",
    "Stopwords don't contribute very much to models despite making up a huge chunk of text. They should be removed to improve performance. In total, about half of all the original words were removed. This takes a huge workload off of our models."
   ]
  },
  {
   "cell_type": "code",
   "execution_count": 16,
   "id": "350735f6",
   "metadata": {},
   "outputs": [
    {
     "data": {
      "application/vnd.jupyter.widget-view+json": {
       "model_id": "0858bdda1e814347acdf64fc25531fbd",
       "version_major": 2,
       "version_minor": 0
      },
      "text/plain": [
       "  0%|          | 0/1894969 [00:00<?, ?it/s]"
      ]
     },
     "metadata": {},
     "output_type": "display_data"
    }
   ],
   "source": [
    "df['stopwords_removed'] = df['lowercase'].progress_apply(lambda x: [w for w in x if w not in stopwords_list])\n",
    "df['joined'] = df['stopwords_removed'].str.join(\" \")"
   ]
  },
  {
   "cell_type": "code",
   "execution_count": 17,
   "id": "b3f4a265",
   "metadata": {},
   "outputs": [],
   "source": [
    "num_words_after = len(df['stopwords_removed'].explode())\n",
    "num_words_before = len(df['tokenized'].explode())\n",
    "\n",
    "total_stopwords_removed = num_words_before - num_words_after\n",
    "percentage_words_removed = total_stopwords_removed / num_words_before"
   ]
  },
  {
   "cell_type": "code",
   "execution_count": 18,
   "id": "706c48c7",
   "metadata": {},
   "outputs": [
    {
     "name": "stdout",
     "output_type": "stream",
     "text": [
      "A total of 22,372,164 stopwords were removed, which is 48.42% of all original words.\n"
     ]
    }
   ],
   "source": [
    "print(f\"A total of {total_stopwords_removed:,} stopwords were removed, \\\n",
    "which is {percentage_words_removed:.2%} of all original words.\")"
   ]
  },
  {
   "cell_type": "markdown",
   "id": "36d56f4d",
   "metadata": {},
   "source": [
    "# Calculating post lengths\n",
    "\n",
    "This enables us to set a cutoff point for allowed post lengths, and it will also provide helpful visualizations."
   ]
  },
  {
   "cell_type": "code",
   "execution_count": 19,
   "id": "dd4e3ca4",
   "metadata": {},
   "outputs": [],
   "source": [
    "df['lengths'] = df.tokenized.str.len()"
   ]
  },
  {
   "cell_type": "markdown",
   "id": "13a6e6cb",
   "metadata": {},
   "source": [
    "# Creating bigrams and trigrams\n",
    "\n",
    "Bigrams and trigrams are more meaningful units than words that can be helpful when we feature engineer for models.\n",
    "\n",
    "We use tuples instead of lists because tuples are hashable types, which enables us to use functions like **Counter()** in the **collections** library to perform counts on the bigrams & trigrams."
   ]
  },
  {
   "cell_type": "code",
   "execution_count": 20,
   "id": "322d3073",
   "metadata": {},
   "outputs": [
    {
     "data": {
      "application/vnd.jupyter.widget-view+json": {
       "model_id": "a1de623405fa4b33ba9612c8bec64885",
       "version_major": 2,
       "version_minor": 0
      },
      "text/plain": [
       "  0%|          | 0/1894969 [00:00<?, ?it/s]"
      ]
     },
     "metadata": {},
     "output_type": "display_data"
    },
    {
     "data": {
      "application/vnd.jupyter.widget-view+json": {
       "model_id": "c35f54644a4b485581169aa9cb757108",
       "version_major": 2,
       "version_minor": 0
      },
      "text/plain": [
       "  0%|          | 0/1894969 [00:00<?, ?it/s]"
      ]
     },
     "metadata": {},
     "output_type": "display_data"
    }
   ],
   "source": [
    "df['bigrams'] = df['stopwords_removed'].progress_apply(lambda x: [tuple([x[i], x[i+1]]) for i in range(len(x)-1)])\n",
    "df['trigrams'] = df['stopwords_removed'].progress_apply(lambda x: [tuple([x[i], x[i+1], x[i+2]]) for i in range(len(x)-2)])"
   ]
  },
  {
   "cell_type": "markdown",
   "id": "96d0412e",
   "metadata": {},
   "source": [
    "# Removing bots"
   ]
  },
  {
   "cell_type": "code",
   "execution_count": 21,
   "id": "be1e37e6",
   "metadata": {},
   "outputs": [],
   "source": [
    "# Removing posts by the universal reddit bot, AutoModerator\n",
    "mask = df.author=='AutoModerator'\n",
    "auto_moderator_spam = df[mask]\n",
    "df = df[~mask]"
   ]
  },
  {
   "cell_type": "code",
   "execution_count": 22,
   "id": "a594fed9",
   "metadata": {},
   "outputs": [],
   "source": [
    "# Removing bots with the bot signature \"bot by u/*reddit_username*\"\n",
    "mask = df.joined.str.contains(' bot u ')\n",
    "bot_signature_spam = df[mask]\n",
    "df = df[~mask]"
   ]
  },
  {
   "cell_type": "code",
   "execution_count": 23,
   "id": "43d0f62b",
   "metadata": {},
   "outputs": [],
   "source": [
    "# Removing bots with the word \"bot\" in their name\n",
    "bot_names = list(df[(df.author.str.contains('bot')) | (df.author.str.contains('Bot'))].author.value_counts().index)\n",
    "mask = df.author.isin(bot_names)\n",
    "bot_name_spam = df[mask]\n",
    "df = df[~mask]"
   ]
  },
  {
   "cell_type": "code",
   "execution_count": 24,
   "id": "669d7b0a",
   "metadata": {},
   "outputs": [],
   "source": [
    "# Removing authors whose posts contain \"I'm a bot\"\n",
    "im_a_bot = list(df[df.post.str.contains(\"I'm a bot\")].author.value_counts().index)\n",
    "mask = df.post.str.contains(\"I'm a bot\")\n",
    "im_a_bot_spam = df[mask]\n",
    "df = df[~mask]"
   ]
  },
  {
   "cell_type": "markdown",
   "id": "2dd7405d",
   "metadata": {},
   "source": [
    "# Capping post length at 200 words\n",
    "\n",
    "This fixes a very skewed length distribution that seems to have major outliers."
   ]
  },
  {
   "cell_type": "code",
   "execution_count": 25,
   "id": "79fdd8ce",
   "metadata": {},
   "outputs": [
    {
     "data": {
      "image/png": "[encoded data removed]",
      "text/plain": [
       "<Figure size 1500x500 with 1 Axes>"
      ]
     },
     "metadata": {},
     "output_type": "display_data"
    }
   ],
   "source": [
    "fig, ax = plt.subplots(figsize=(15,5))\n",
    "ax.hist(df.lengths, bins=100)\n",
    "ax.set_title(\"Distribution of post lengths before hard cap\");"
   ]
  },
  {
   "cell_type": "code",
   "execution_count": 26,
   "id": "9380a0d7",
   "metadata": {},
   "outputs": [],
   "source": [
    "mask = df.lengths>200\n",
    "large_posts = df[mask]\n",
    "\n",
    "df = df[~mask]"
   ]
  },
  {
   "cell_type": "code",
   "execution_count": 27,
   "id": "451dd54b",
   "metadata": {},
   "outputs": [
    {
     "data": {
      "image/png": "[encoded data removed]",
      "text/plain": [
       "<Figure size 1500x500 with 1 Axes>"
      ]
     },
     "metadata": {},
     "output_type": "display_data"
    }
   ],
   "source": [
    "fig, ax = plt.subplots(figsize=(15,5))\n",
    "ax.hist(df.lengths, bins=100);\n",
    "ax.set_title(\"Distribution of post lengths before hard cap of 200\");"
   ]
  },
  {
   "cell_type": "markdown",
   "id": "272d051b",
   "metadata": {},
   "source": [
    "# Bounding post score at (-25, 100)\n",
    "\n",
    "This fixes a very skewed score distribution that seems to have major outliers at both ends."
   ]
  },
  {
   "cell_type": "code",
   "execution_count": 28,
   "id": "51fa8ecf",
   "metadata": {},
   "outputs": [
    {
     "data": {
      "image/png": "[encoded data removed]",
      "text/plain": [
       "<Figure size 1500x500 with 1 Axes>"
      ]
     },
     "metadata": {},
     "output_type": "display_data"
    }
   ],
   "source": [
    "fig, ax = plt.subplots(figsize=(15,5))\n",
    "ax.hist(df.score, bins=100)\n",
    "ax.set_title(\"Distribution of post score before hard upper & lower boundary\");"
   ]
  },
  {
   "cell_type": "code",
   "execution_count": 38,
   "id": "ce33fde0",
   "metadata": {},
   "outputs": [
    {
     "data": {
      "text/plain": [
       "(-496, 3716)"
      ]
     },
     "execution_count": 38,
     "metadata": {},
     "output_type": "execute_result"
    }
   ],
   "source": [
    "df.score.min(), df.score.max()"
   ]
  },
  {
   "cell_type": "code",
   "execution_count": 40,
   "id": "7a181dbf",
   "metadata": {},
   "outputs": [],
   "source": [
    "mask = (df.score>100) | (df.score<-25)\n",
    "extreme_scores = df[mask]"
   ]
  },
  {
   "cell_type": "code",
   "execution_count": 45,
   "id": "bb0b0e40",
   "metadata": {},
   "outputs": [
    {
     "data": {
      "image/png": "[encoded data removed]",
      "text/plain": [
       "<Figure size 1500x500 with 1 Axes>"
      ]
     },
     "metadata": {},
     "output_type": "display_data"
    }
   ],
   "source": [
    "fig, ax = plt.subplots(figsize=(15,5))\n",
    "ax.hist(df[~mask].score, bins=100);\n",
    "ax.set_title(\"Distribution of post lengths after hard bound of (-25, 100)\");"
   ]
  },
  {
   "cell_type": "markdown",
   "id": "85cac604",
   "metadata": {},
   "source": [
    "# Investigating for spam\n",
    "\n",
    "We want to remove posts that have many duplicate strings, to avoid skewing our models.\n",
    "\n",
    "- Remove four or more consecutive instances of a unigram\n",
    "- Remove three or more consecutive instances of a bigram\n",
    "- Remove two or more consecutive instances of a trigram"
   ]
  },
  {
   "cell_type": "code",
   "execution_count": 24,
   "id": "5600ad2e",
   "metadata": {},
   "outputs": [],
   "source": [
    "all_unigrams = df.stopwords_removed.explode()\n",
    "all_bigrams = df.bigrams.explode()\n",
    "all_trigrams = df.trigrams.explode()\n",
    "\n",
    "unigrams = Counter(all_unigrams)\n",
    "bigrams = Counter(all_bigrams)\n",
    "trigrams = Counter(all_trigrams)"
   ]
  },
  {
   "cell_type": "code",
   "execution_count": 25,
   "id": "7f5fbc89",
   "metadata": {},
   "outputs": [],
   "source": [
    "most_common_unigrams = unigrams.most_common(150)\n",
    "spam_strings = []\n",
    "\n",
    "for unigram, count in most_common_unigrams:\n",
    "    \n",
    "    spam_string = ' '.join([unigram]*4)\n",
    "    spam_strings.append(spam_string)\n",
    "    \n",
    "spam_strings = '|'.join(spam_strings)\n",
    "mask = df.joined.str.contains(spam_strings)\n",
    "unigram_spam = df[mask]\n",
    "df = df[~mask]"
   ]
  },
  {
   "cell_type": "code",
   "execution_count": 26,
   "id": "af4b28ca",
   "metadata": {},
   "outputs": [],
   "source": [
    "most_common_bigrams = bigrams.most_common(150)\n",
    "spam_strings = []\n",
    "\n",
    "for bigram, count in most_common_bigrams:\n",
    "    \n",
    "    bigram = ' '.join(bigram)\n",
    "    spam_string = ' '.join([bigram]*3)\n",
    "    spam_strings.append(spam_string)\n",
    "    \n",
    "spam_strings = '|'.join(spam_strings)\n",
    "mask = df.joined.str.contains(spam_strings)\n",
    "bigram_spam = df[mask]\n",
    "df = df[~mask]"
   ]
  },
  {
   "cell_type": "code",
   "execution_count": 27,
   "id": "9177df1e",
   "metadata": {},
   "outputs": [],
   "source": [
    "most_common_trigrams = trigrams.most_common(150)\n",
    "spam_strings = []\n",
    "\n",
    "for trigram, count in most_common_trigrams:\n",
    "    \n",
    "    trigram = ' '.join(trigram)\n",
    "    spam_string = ' '.join([trigram]*2)\n",
    "    spam_strings.append(spam_string)\n",
    "    \n",
    "spam_strings = '|'.join(spam_strings)\n",
    "mask = df.joined.str.contains(spam_strings)\n",
    "trigram_spam = df[mask]\n",
    "df = df[~mask]"
   ]
  },
  {
   "cell_type": "code",
   "execution_count": 28,
   "id": "2a4a6caa",
   "metadata": {},
   "outputs": [],
   "source": [
    "mask = df.joined.str.contains('source script protect')\n",
    "script_spam = df[mask]\n",
    "df = df[~mask]"
   ]
  },
  {
   "cell_type": "markdown",
   "id": "0e1bebf9",
   "metadata": {},
   "source": [
    "# Storing data externally"
   ]
  },
  {
   "cell_type": "code",
   "execution_count": null,
   "id": "8ad2379a",
   "metadata": {},
   "outputs": [],
   "source": [
    "# Storing preprocessed dataframe\n",
    "df.to_parquet(path=f'data/stored/{name}_preprocessed.parquet')"
   ]
  },
  {
   "cell_type": "code",
   "execution_count": 91,
   "id": "60770227",
   "metadata": {},
   "outputs": [],
   "source": [
    "#Storing spam\n",
    "spams = [auto_moderator_spam, \n",
    "         bot_signature_spam, \n",
    "         bot_name_spam, \n",
    "         im_a_bot_spam, \n",
    "         unigram_spam, \n",
    "         bigram_spam, \n",
    "         trigram_spam, \n",
    "         script_spam, \n",
    "         large_posts]\n",
    "\n",
    "spam = pd.concat(spams)\n",
    "spam.to_parquet(path=f'data/stored/{name}_spam.parquet')"
   ]
  },
  {
   "cell_type": "code",
   "execution_count": 30,
   "id": "626ad6d1",
   "metadata": {},
   "outputs": [],
   "source": [
    "# Re-calculating word counts for feature engineering\n",
    "all_unigrams = df.stopwords_removed.explode()\n",
    "all_bigrams = df.bigrams.explode()\n",
    "all_trigrams = df.trigrams.explode()\n",
    "\n",
    "unigrams = Counter(all_unigrams)\n",
    "bigrams = Counter(all_bigrams)\n",
    "trigrams = Counter(all_trigrams)"
   ]
  },
  {
   "cell_type": "code",
   "execution_count": 94,
   "id": "aaec83ea",
   "metadata": {
    "scrolled": false
   },
   "outputs": [],
   "source": [
    "pd.DataFrame({'unigram': [x[0] for x in unigrams.most_common(1000)], \n",
    "              'count': [x[1] for x in unigrams.most_common(1000)]})\\\n",
    "            .sort_values(by='count', ascending=False)\\\n",
    "            .to_parquet(path=f'data/stored/grams/{name}_unigrams.parquet')"
   ]
  },
  {
   "cell_type": "code",
   "execution_count": 95,
   "id": "5586b8dd",
   "metadata": {},
   "outputs": [],
   "source": [
    "pd.DataFrame({'bigram': [x[0] for x in bigrams.most_common(1000)], \n",
    "              'count': [x[1] for x in bigrams.most_common(1000)]})\\\n",
    "            .sort_values(by='count', ascending=False)\\\n",
    "            .to_parquet(path=f'data/stored/grams/{name}_bigrams.parquet')"
   ]
  },
  {
   "cell_type": "code",
   "execution_count": 96,
   "id": "04b24ee7",
   "metadata": {},
   "outputs": [],
   "source": [
    "pd.DataFrame({'trigram': [x[0] for x in trigrams.most_common(1000)], \n",
    "              'count': [x[1] for x in trigrams.most_common(1000)]})\\\n",
    "            .sort_values(by='count', ascending=False)\\\n",
    "            .to_parquet(path=f'data/stored/grams/{name}_trigrams.parquet')"
   ]
  },
  {
   "cell_type": "markdown",
   "id": "e6a30da5",
   "metadata": {},
   "source": [
    "# Appendix"
   ]
  },
  {
   "cell_type": "code",
   "execution_count": 93,
   "id": "76757831",
   "metadata": {
    "scrolled": false
   },
   "outputs": [
    {
     "data": {
      "text/plain": [
       "'ISIS ISIS ISIS ISIS ISIS ISIS ISIS ISIS ISIS ISIS ISIS ISIS ISIS ISIS ISIS ISIS ISIS ISIS ISIS ISIS ISIS ISIS ISIS ISIS ISIS ISIS ISIS ISIS ISIS ISIS ISIS ISIS ISIS ISIS ISIS ISIS ISIS ISIS ISIS ISIS ISIS ISIS ISIS ISIS ISIS ISIS ISIS ISIS ISIS ISIS ISIS ISIS ISIS ISIS ISIS ISIS ISIS ISIS ISIS ISIS ISIS ISIS ISIS ISIS ISIS ISIS ISIS ISIS ISIS ISIS ISIS ISIS ISIS ISIS ISIS ISIS ISIS ISIS ISIS ISIS ISIS ISIS ISIS ISIS ISIS ISIS ISIS ISIS ISIS ISIS ISIS ISIS ISIS ISIS ISIS ISIS ISIS ISIS ISIS ISIS ISIS ISIS ISIS ISIS ISIS ISIS ISIS ISIS ISIS ISIS ISIS ISIS ISIS ISIS ISIS ISIS ISIS ISIS ISIS ISIS ISIS ISIS ISIS ISIS ISIS ISIS ISIS ISIS ISIS ISIS ISIS ISIS ISIS ISIS ISIS ISIS ISIS ISIS ISIS ISIS ISIS ISIS ISIS ISIS ISIS ISIS ISIS ISIS ISIS ISIS ISIS ISIS ISIS ISIS ISIS ISIS ISIS ISIS ISIS ISIS ISIS ISIS ISIS ISIS ISIS ISIS ISIS ISIS ISIS ISIS ISIS ISIS ISIS ISIS ISIS ISIS ISIS ISIS ISIS ISIS ISIS ISIS ISIS ISIS ISIS ISIS ISIS ISIS ISIS ISIS ISIS ISIS ISIS ISIS ISIS ISIS ISIS ISIS ISIS ISIS ISIS ISIS ISIS ISIS ISIS ISIS ISIS ISIS ISIS ISIS ISIS ISIS ISIS ISIS ISIS ISIS ISIS ISIS ISIS ISIS ISIS ISIS ISIS ISIS ISIS ISIS ISIS ISIS ISIS ISIS ISIS ISIS ISIS ISIS ISIS ISIS ISIS ISIS ISIS ISIS ISIS ISIS ISIS ISIS ISIS ISIS ISIS ISIS ISIS ISIS ISIS ISIS ISIS ISIS ISIS ISIS ISIS ISIS ISIS ISIS ISIS ISIS ISIS ISIS ISIS ISIS ISIS ISIS ISIS ISIS ISIS ISIS ISIS ISIS ISIS ISIS ISIS ISIS ISIS ISIS ISIS ISIS ISIS ISIS ISIS ISIS ISIS ISIS ISIS ISIS ISIS ISIS ISIS ISIS ISIS ISIS ISIS ISIS ISIS ISIS ISIS ISIS ISIS ISIS ISIS ISIS ISIS ISIS ISIS ISIS ISIS ISIS ISIS ISIS ISIS ISIS ISIS ISIS ISIS ISIS ISIS ISIS ISIS ISIS ISIS ISIS ISIS ISIS ISIS ISIS ISIS ISIS ISIS ISIS ISIS ISIS ISIS ISIS ISIS ISIS ISIS ISIS ISIS ISIS ISIS ISIS ISIS ISIS ISIS ISIS ISIS ISIS ISIS ISIS ISIS ISIS ISIS ISIS ISIS ISIS ISIS ISIS ISIS ISIS ISIS ISIS ISIS ISIS ISIS ISIS ISIS ISIS ISIS ISIS ISIS ISIS ISIS ISIS ISIS ISIS ISIS ISIS ISIS ISIS ISIS ISIS ISIS ISIS ISIS ISIS ISIS ISIS ISIS ISIS ISIS ISIS ISIS ISIS ISIS ISIS ISIS ISIS ISIS ISIS ISIS ISIS ISIS ISIS ISIS ISIS ISIS ISIS ISIS ISIS ISIS ISIS ISIS ISIS ISIS ISIS ISIS ISIS ISIS ISIS ISIS ISIS ISIS ISIS ISIS ISIS ISIS ISIS ISIS ISIS ISIS ISIS ISIS ISIS ISIS ISIS ISIS ISIS ISIS ISIS ISIS ISIS ISIS ISIS ISIS ISIS ISIS ISIS ISIS ISIS ISIS ISIS ISIS ISIS ISIS ISIS ISIS ISIS ISIS ISIS ISIS ISIS ISIS ISIS ISIS ISIS ISIS ISIS ISIS ISIS ISIS ISIS ISIS ISIS ISIS ISIS ISIS ISIS ISIS ISIS ISIS ISIS ISIS ISIS ISIS ISIS ISIS ISIS ISIS ISIS ISIS ISIS ISIS ISIS ISIS ISIS ISIS ISIS ISIS ISIS ISIS ISIS ISIS ISIS ISIS ISIS ISIS ISIS ISIS ISIS ISIS ISIS ISIS ISIS ISIS ISIS ISIS ISIS ISIS ISIS ISIS ISIS ISIS ISIS ISIS ISIS ISIS ISIS ISIS ISIS ISIS ISIS ISIS ISIS ISIS ISIS ISIS ISIS ISIS ISIS ISIS ISIS ISIS ISIS ISIS ISIS ISIS ISIS ISIS ISIS ISIS ISIS ISIS ISIS ISIS ISIS ISIS ISIS ISIS ISIS ISIS ISIS ISIS ISIS ISIS ISIS ISIS ISIS ISIS ISIS ISIS ISIS ISIS ISIS ISIS ISIS ISIS ISIS ISIS ISIS ISIS ISIS ISIS ISIS ISIS ISIS ISIS ISIS ISIS ISIS ISIS ISIS ISIS ISIS ISIS ISIS ISIS ISIS ISIS ISIS ISIS ISIS ISIS ISIS ISIS ISIS ISIS ISIS ISIS ISIS ISIS ISIS ISIS ISIS ISIS ISIS ISIS ISIS ISIS ISIS ISIS ISIS ISIS ISIS ISIS ISIS ISIS ISIS ISIS ISIS ISIS ISIS ISIS ISIS ISIS ISIS ISIS ISIS ISIS ISIS ISIS ISIS ISIS ISIS ISIS ISIS ISIS ISIS ISIS ISIS ISIS ISIS ISIS ISIS ISIS ISIS ISIS ISIS ISIS ISIS ISIS ISIS ISIS ISIS ISIS ISIS ISIS ISIS ISIS ISIS ISIS ISIS ISIS ISIS ISIS ISIS ISIS ISIS ISIS ISIS ISIS ISIS ISIS ISIS ISIS ISIS ISIS ISIS ISIS ISIS ISIS ISIS ISIS ISIS ISIS ISIS ISIS ISIS ISIS ISIS ISIS ISIS ISIS ISIS ISIS ISIS ISIS ISIS ISIS ISIS ISIS ISIS ISIS ISIS ISIS ISIS ISIS ISIS ISIS ISIS ISIS ISIS ISIS ISIS ISIS ISIS ISIS ISIS ISIS ISIS ISIS ISIS ISIS ISIS ISIS ISIS ISIS ISIS ISIS ISIS ISIS ISIS ISIS ISIS ISIS ISIS ISIS ISIS ISIS ISIS ISIS ISIS ISIS ISIS ISIS ISIS ISIS ISIS ISIS ISIS ISIS ISIS ISIS ISIS ISIS ISIS ISIS ISIS ISIS ISIS ISIS ISIS ISIS ISIS ISIS ISIS ISIS ISIS ISIS ISIS ISIS ISIS ISIS ISIS ISIS ISIS ISIS ISIS ISIS ISIS ISIS ISIS ISIS ISIS ISIS ISIS ISIS ISIS ISIS ISIS ISIS ISIS ISIS ISIS ISIS ISIS ISIS ISIS ISIS ISIS ISIS ISIS ISIS ISIS ISIS ISIS ISIS ISIS ISIS ISIS ISIS ISIS ISIS ISIS ISIS ISIS ISIS ISIS ISIS ISIS ISIS ISIS ISIS ISIS ISIS ISIS ISIS ISIS ISIS ISIS ISIS ISIS ISIS ISIS ISIS ISIS ISIS ISIS ISIS ISIS ISIS ISIS ISIS ISIS ISIS ISIS ISIS ISIS ISIS ISIS ISIS ISIS ISIS ISIS ISIS ISIS ISIS ISIS ISIS ISIS ISIS ISIS ISIS ISIS ISIS ISIS ISIS ISIS ISIS ISIS ISIS ISIS ISIS ISIS ISIS ISIS ISIS ISIS ISIS ISIS ISIS ISIS ISIS ISIS ISIS ISIS ISIS ISIS ISIS ISIS ISIS ISIS ISIS ISIS ISIS ISIS ISIS ISIS ISIS ISIS ISIS ISIS ISIS ISIS ISIS ISIS ISIS ISIS ISIS ISIS ISIS ISIS ISIS ISIS ISIS ISIS ISIS ISIS ISIS ISIS ISIS ISIS ISIS ISIS ISIS ISIS ISIS ISIS ISIS ISIS ISIS ISIS ISIS ISIS ISIS ISIS ISIS ISIS ISIS ISIS ISIS ISIS ISIS ISIS ISIS ISIS ISIS ISIS ISIS ISIS ISIS ISIS ISIS ISIS ISIS ISIS ISIS ISIS ISIS ISIS ISIS ISIS ISIS ISIS ISIS ISIS ISIS ISIS ISIS ISIS ISIS ISIS ISIS ISIS ISIS ISIS ISIS ISIS ISIS ISIS ISIS ISIS ISIS ISIS ISIS ISIS ISIS ISIS ISIS ISIS ISIS ISIS ISIS ISIS ISIS ISIS ISIS ISIS ISIS ISIS ISIS ISIS ISIS ISIS ISIS ISIS ISIS ISIS ISIS ISIS ISIS ISIS ISIS ISIS ISIS ISIS ISIS ISIS ISIS ISIS ISIS ISIS ISIS ISIS ISIS ISIS ISIS ISIS ISIS ISIS ISIS ISIS ISIS ISIS ISIS ISIS ISIS ISIS ISIS ISIS ISIS ISIS ISIS ISIS ISIS ISIS ISIS ISIS ISIS ISIS ISIS ISIS ISIS ISIS ISIS ISIS ISIS ISIS ISIS ISIS ISIS ISIS ISIS ISIS ISIS ISIS ISIS ISIS ISIS ISIS ISIS ISIS ISIS ISIS ISIS ISIS ISIS ISIS ISIS ISIS ISIS ISIS ISIS ISIS ISIS ISIS ISIS ISIS ISIS ISIS ISIS ISIS ISIS ISIS ISIS ISIS ISIS ISIS ISIS ISIS ISIS ISIS ISIS ISIS ISIS ISIS ISIS ISIS ISIS ISIS ISIS ISIS ISIS ISIS ISIS ISIS ISIS ISIS ISIS ISIS ISIS ISIS ISIS ISIS ISIS ISIS ISIS ISIS ISIS ISIS ISIS ISIS ISIS ISIS ISIS ISIS ISIS ISIS ISIS ISIS ISIS ISIS ISIS ISIS ISIS ISIS ISIS ISIS ISIS ISIS ISIS ISIS ISIS ISIS ISIS ISIS ISIS ISIS ISIS ISIS ISIS ISIS ISIS ISIS ISIS ISIS ISIS ISIS ISIS ISIS ISIS ISIS ISIS ISIS ISIS ISIS ISIS ISIS ISIS ISIS ISIS ISIS ISIS ISIS ISIS ISIS ISIS ISIS ISIS ISIS ISIS ISIS ISIS ISIS ISIS ISIS ISIS ISIS ISIS ISIS ISIS ISIS ISIS ISIS ISIS ISIS ISIS ISIS ISIS ISIS ISIS ISIS ISIS ISIS ISIS ISIS ISIS ISIS ISIS ISIS ISIS ISIS ISIS ISIS ISIS ISIS ISIS ISIS ISIS ISIS ISIS ISIS ISIS ISIS ISIS ISIS ISIS ISIS ISIS ISIS ISIS ISIS ISIS ISIS ISIS ISIS ISIS ISIS ISIS ISIS ISIS ISIS ISIS ISIS ISIS ISIS ISIS ISIS ISIS ISIS ISIS ISIS ISIS ISIS ISIS ISIS ISIS ISIS ISIS ISIS ISIS ISIS ISIS ISIS ISIS ISIS ISIS ISIS ISIS ISIS ISIS ISIS ISIS ISIS ISIS ISIS ISIS ISIS ISIS ISIS ISIS ISIS ISIS ISIS ISIS ISIS ISIS ISIS ISIS ISIS ISIS ISIS ISIS ISIS ISIS ISIS ISIS ISIS ISIS ISIS ISIS ISIS ISIS ISIS ISIS ISIS ISIS ISIS ISIS ISIS ISIS ISIS ISIS ISIS ISIS ISIS ISIS ISIS ISIS ISIS ISIS ISIS ISIS ISIS ISIS ISIS ISIS ISIS ISIS ISIS ISIS ISIS ISIS ISIS ISIS ISIS ISIS ISIS ISIS ISIS ISIS ISIS ISIS ISIS ISIS ISIS ISIS ISIS ISIS ISIS ISIS ISIS ISIS ISIS ISIS ISIS ISIS ISIS ISIS ISIS ISIS ISIS ISIS ISIS ISIS ISIS ISIS ISIS ISIS ISIS ISIS ISIS ISIS ISIS ISIS ISIS ISIS ISIS ISIS ISIS ISIS ISIS ISIS ISIS ISIS ISIS ISIS ISIS ISIS ISIS ISIS ISIS ISIS ISIS ISIS ISIS ISIS ISIS ISIS ISIS ISIS ISIS ISIS ISIS ISIS ISIS ISIS ISIS ISIS ISIS ISIS ISIS ISIS ISIS ISIS ISIS ISIS ISIS ISIS ISIS ISIS ISIS ISIS ISIS ISIS ISIS ISIS ISIS ISIS ISIS ISIS ISIS ISIS ISIS ISIS ISIS ISIS ISIS ISIS ISIS ISIS ISIS ISIS ISIS ISIS ISIS ISIS ISIS ISIS ISIS ISIS ISIS ISIS ISIS ISIS ISIS ISIS ISIS ISIS ISIS ISIS ISIS ISIS ISIS ISIS ISIS ISIS ISIS ISIS ISIS ISIS ISIS ISIS ISIS ISIS ISIS ISIS ISIS ISIS ISIS ISIS ISIS ISIS ISIS ISIS ISIS ISIS ISIS ISIS ISIS ISIS ISIS ISIS ISIS ISIS ISIS ISIS ISIS ISIS ISIS ISIS ISIS ISIS ISIS ISIS ISIS ISIS ISIS ISIS ISIS ISIS ISIS ISIS ISIS ISIS ISIS ISIS ISIS ISIS ISIS ISIS ISIS ISIS ISIS ISIS ISIS ISIS ISIS ISIS ISIS ISIS ISIS ISIS ISIS ISIS ISIS ISIS ISIS ISIS ISIS ISIS ISIS ISIS ISIS ISIS ISIS ISIS ISIS ISIS ISIS ISIS ISIS ISIS ISIS ISIS ISIS ISIS ISIS ISIS ISIS ISIS ISIS ISIS ISIS ISIS ISIS ISIS ISIS ISIS ISIS ISIS ISIS ISIS ISIS ISIS ISIS ISIS ISIS ISIS ISIS ISIS ISIS ISIS ISIS ISIS ISIS ISIS ISIS ISIS ISIS ISIS ISIS ISIS ISIS ISIS ISIS ISIS ISIS ISIS ISIS ISIS ISIS ISIS ISIS ISIS ISIS ISIS ISIS ISIS ISIS ISIS ISIS ISIS ISIS ISIS ISIS ISIS ISIS ISIS ISIS ISIS ISIS ISIS ISIS ISIS ISIS ISIS ISIS ISIS ISIS ISIS ISIS ISIS ISIS ISIS ISIS ISIS ISIS ISIS ISIS ISIS ISIS ISIS ISIS ISIS ISIS ISIS ISIS ISIS ISIS ISIS ISIS ISIS ISIS ISIS ISIS ISIS ISIS ISIS ISIS ISIS ISIS ISIS ISIS ISIS ISIS ISIS ISIS ISIS ISIS ISIS ISIS ISIS ISIS ISIS ISIS ISIS ISIS ISIS ISIS ISIS ISIS ISIS ISIS ISIS ISIS ISIS ISIS ISIS ISIS ISIS ISIS ISIS ISIS ISIS ISIS ISIS ISIS ISIS ISIS ISIS ISIS ISIS ISIS ISIS ISIS ISIS ISIS ISIS ISIS ISIS ISIS ISIS ISIS ISIS ISIS ISIS ISIS ISIS ISIS ISIS ISIS ISIS ISIS ISIS ISIS ISIS ISIS ISIS ISIS ISIS ISIS ISIS ISIS ISIS ISIS ISIS ISIS ISIS ISIS ISIS ISIS ISIS ISIS ISIS ISIS ISIS ISIS ISIS ISIS ISIS ISIS ISIS ISIS ISIS ISIS ISIS ISIS ISIS ISIS ISIS ISIS ISIS ISIS ISIS ISIS ISIS ISIS ISIS ISIS ISIS ISIS ISIS ISIS ISIS ISIS ISIS ISIS ISIS ISIS ISIS ISIS ISIS ISIS ISIS ISIS ISIS ISIS ISIS ISIS ISIS ISIS ISIS ISIS ISIS ISIS ISIS ISIS ISIS ISIS ISIS ISIS ISIS ISIS ISIS ISIS ISIS ISIS ISIS ISIS ISIS ISIS ISIS ISIS ISIS ISIS ISIS ISIS ISIS ISIS ISIS ISIS ISIS ISIS ISIS ISIS ISIS ISIS ISIS ISIS ISIS ISIS ISIS ISIS ISIS ISIS ISIS ISIS ISIS ISIS ISIS ISIS ISIS ISIS ISIS ISIS ISIS ISIS ISIS ISIS ISIS ISIS ISIS ISIS ISIS ISIS ISIS ISIS ISIS ISIS ISIS ISIS ISIS ISIS ISIS ISIS ISIS ISIS ISIS ISIS ISIS ISIS ISIS ISIS ISIS ISIS ISIS ISIS ISIS ISIS ISIS ISIS ISIS ISIS ISIS ISIS ISIS ISIS ISIS ISIS ISIS ISIS ISIS ISIS ISIS ISIS ISIS ISIS ISIS ISIS ISIS ISIS ISIS ISIS ISIS ISIS ISIS ISIS ISIS ISIS ISIS ISIS ISIS ISIS ISIS ISIS ISIS ISIS ISIS ISIS ISIS ISIS ISIS ISIS ISIS ISIS ISIS ISIS ISIS ISIS ISIS ISIS ISIS ISIS ISIS ISIS ISIS ISIS ISIS ISIS ISIS ISIS ISIS ISIS ISIS ISIS ISIS ISIS ISIS ISIS ISIS ISIS ISIS ISIS ISIS ISIS ISIS ISIS ISIS ISIS ISIS ISIS ISIS ISIS \\n\\n'"
      ]
     },
     "execution_count": 93,
     "metadata": {},
     "output_type": "execute_result"
    }
   ],
   "source": [
    "# Example of spam\n",
    "spam[spam.joined.str.contains('isis isis isis')].post.iloc[0]"
   ]
  },
  {
   "cell_type": "code",
   "execution_count": null,
   "id": "d4de21aa",
   "metadata": {
    "scrolled": true
   },
   "outputs": [],
   "source": [
    "# What AutoModerator's posts look like\n",
    "auto_moderator_spam.head()"
   ]
  },
  {
   "cell_type": "code",
   "execution_count": null,
   "id": "39d0a6a0",
   "metadata": {},
   "outputs": [],
   "source": [
    "# I decided to remove posts that had \"bot u\" after stopwords had been removed.\n",
    "# I took this to mean that there was originally a \"bot by u/reddit_username\"\n",
    "# at the end of the post, meaning the post was made by a bot.\n",
    "# These are the posts that got removed due to this measure.\n",
    "\n",
    "for bot in bot_signature_spam.author.unique():\n",
    "    bot_posts = bot_signature_spam[bot_signature_spam.author==bot][['post']]\n",
    "    display(bot_posts.head().style.set_caption(f\"Author: {bot}, number of posts: {len(bot_posts)}\"))\n",
    "    print('\\n\\n')"
   ]
  },
  {
   "cell_type": "code",
   "execution_count": null,
   "id": "3d002d35",
   "metadata": {},
   "outputs": [],
   "source": [
    "# I decided to remove all posts made by authors with \"bot\" or \"Bot\" in their names.\n",
    "# Not all authors with a name like this were actually bots, but they were infested with bots.\n",
    "# Being that these posts were already a small part of the existing posts, it was not worth\n",
    "# manually finding all the actual bots.\n",
    "# These are the posts that got removed due to this measure.\n",
    "\n",
    "for bot in bot_name_spam.author.value_counts().index:\n",
    "    bot_posts = bot_name_spam[bot_name_spam.author==bot][['post']]\n",
    "    display(bot_posts.head().style.set_caption(f\"Author: {bot}, number of posts: {len(bot_posts)}\"))\n",
    "    print('\\n\\n')"
   ]
  },
  {
   "cell_type": "code",
   "execution_count": null,
   "id": "3d49f9f1",
   "metadata": {},
   "outputs": [],
   "source": [
    "# I decided to remove all posts that contained the text \"I'm a bot\".\n",
    "# Not all were made by bots, but most were.\n",
    "\n",
    "for bot in im_a_bot_spam.author.value_counts().index:\n",
    "    bot_posts = im_a_bot_spam[im_a_bot_spam.author==bot][['post']]\n",
    "    display(bot_posts.head().style.set_caption(f\"Author: {bot}, number of posts: {len(bot_posts)}\"))\n",
    "    print('\\n\\n')"
   ]
  },
  {
   "cell_type": "code",
   "execution_count": 2,
   "id": "cf5d8a03",
   "metadata": {},
   "outputs": [
    {
     "ename": "NameError",
     "evalue": "name 'script_spam' is not defined",
     "output_type": "error",
     "traceback": [
      "\u001b[0;31m---------------------------------------------------------------------------\u001b[0m",
      "\u001b[0;31mNameError\u001b[0m                                 Traceback (most recent call last)",
      "Cell \u001b[0;32mIn[2], line 1\u001b[0m\n\u001b[0;32m----> 1\u001b[0m script_spam\n",
      "\u001b[0;31mNameError\u001b[0m: name 'script_spam' is not defined"
     ]
    }
   ],
   "source": [
    "script_spam"
   ]
  }
 ],
 "metadata": {
  "kernelspec": {
   "display_name": "Python (learn-env)",
   "language": "python",
   "name": "learn-env"
  },
  "language_info": {
   "codemirror_mode": {
    "name": "ipython",
    "version": 3
   },
   "file_extension": ".py",
   "mimetype": "text/x-python",
   "name": "python",
   "nbconvert_exporter": "python",
   "pygments_lexer": "ipython3",
   "version": "3.11.6"
  }
 },
 "nbformat": 4,
 "nbformat_minor": 5
}
