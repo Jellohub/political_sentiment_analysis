{
 "cells": [
  {
   "cell_type": "markdown",
   "id": "905ff620",
   "metadata": {},
   "source": [
    "# Flatiron Capstone Project – Notebook #2: Preprocessing\n",
    "\n",
    "Student name: **Angelo Turri**\n",
    "\n",
    "Student pace: **self paced**\n",
    "\n",
    "Project finish date: **1/19/24**\n",
    "\n",
    "Instructor name: **Mark Barbour**\n",
    "\n",
    "# Instructions\n",
    "\n",
    "Due to the size of this project, there are four notebooks instead of one. The proper order to execute these notebooks is as follows:\n",
    "\n",
    "- **Gathering Data**\n",
    "- **Preprocessing** <---- You are here\n",
    "- **Feature Engineering**\n",
    "- **Modeling**"
   ]
  },
  {
   "cell_type": "markdown",
   "id": "b3f8b75b",
   "metadata": {},
   "source": [
    "# Preprocessing Steps\n",
    "\n",
    "### Removing hyperlinks and extraneous characters\n",
    "\n",
    "- I used a regex to eliminate hyperlinks. The regex wasn't perfect, but it was very good. It resulted in a >99% reduction in posts with hyperlinks.\n",
    "- There were several other combinations of characters we replaced, such as \"&gt;\" that repeated many times. These are longhand notations of certain special characters like \">\" or \"<\". They can be looked up [on this website](https://www.htmlhelp.com/reference/html40/entities/special.html).\n",
    "\n",
    "### Tokenizing posts\n",
    "- Tokenizing strings is the process of separating them into lists, where each element is an individual word in that string. I used another regex that identified words and eliminated special characters such as punctuation.\n",
    "- Tokenization enables easy stopword removal and the creation of bigrams and trigrams.\n",
    "\n",
    "### Stopword removal\n",
    "- Stopwords are commonly used words that significantly increase the burden on models while contributing very little. We removed stopwords contained in nltk's stopword list. This resulted in the removal of 22.3 million words, about half of all original words.\n",
    "\n",
    "### Calculating post lengths\n",
    "- Enables the removal of insanely long posts and create more reasonably distributed data.\n",
    "\n",
    "### Creating bigrams and trigrams\n",
    "- Individual words are one means of extracting insights from this data, but bigrams and trigrams carry more information than individual words. By extracting bigrams and trigrams, we have two more options for analysis and the potential to give more meaningful recommendations to our stakeholder.\n",
    "\n",
    "### Removing bots\n",
    "- All posts from the universal reddit moderator, AutoModerator, were removed.\n",
    "- Posts with the words \"bot made by u/reddit_username\" were removed.\n",
    "- Authors with the word \"bot\" or \"Bot\" in their name were removed.\n",
    "- Posts with the words \"I'm a bot\" were removed.\n",
    "\n",
    "These measures weren't perfect - they probably didn't remove all the bots, and they did remove some posts by real people. However, the vast majority of posts removed by these measures were made by bots.\n",
    "\n",
    "If you're skeptical about the effectiveness of these measures, or you think they might have been too extensive, head to the Appendix at the end of this notebook. It shows you the kinds of posts each measure removed. These queries take up quite a bit of space, which is why I kept them at the end of the notebook.\n",
    "\n",
    "### Capping post length at 200 words\n",
    "- Looking at the distribution of post length, it was extremely skewed to the right. Capping post length at 200 words results in a much more reasonable distribution.\n",
    "\n",
    "### Giving post score a hard boundary of (-25, 100)\n",
    "- Looking at the distribution of post scores, it had long tails to both the right and left. A lower boundary of -25 and an upper boundary of 100 returned the distribution to a more reasonable state.\n",
    "\n",
    "### Spam removal\n",
    "- Removing posts longer than 200 words eliminated some spam, but not all.\n",
    "- I used the most common unigrams, bigrams, and trigrams to locate any other spam.\n",
    "    - Posts containing a unigram four or more times in a row were removed.\n",
    "    - Posts containing a bigram three or more times in a row were removed.\n",
    "    - Posts containing a trigram two or more times in a row were removed.\n",
    "- Even after all these measures, trigrams such as \"source script protect\" continued to appear in the most common phrases. I manually removed these.\n",
    "- All combined spam from this notebook is stored externally in a single dataframe, \"spam.parquet.\""
   ]
  },
  {
   "cell_type": "markdown",
   "id": "ae453064",
   "metadata": {},
   "source": [
    "# Importing Packages"
   ]
  },
  {
   "cell_type": "code",
   "execution_count": 1,
   "id": "1bcd434f",
   "metadata": {
    "scrolled": true
   },
   "outputs": [],
   "source": [
    "import pandas as pd\n",
    "from matplotlib import pyplot as plt\n",
    "import matplotlib.ticker as ticker\n",
    "import numpy as np\n",
    "from collections import Counter\n",
    "\n",
    "from IPython.display import clear_output, display_html, Markdown, display\n",
    "import time\n",
    "from tqdm.notebook import tqdm\n",
    "tqdm.pandas()\n",
    "\n",
    "import re\n",
    "import string\n",
    "import nltk\n",
    "from nltk.sentiment import SentimentIntensityAnalyzer\n",
    "from nltk.corpus import stopwords\n",
    "from nltk import word_tokenize\n",
    "from  nltk import FreqDist\n",
    "from nltk.tag import pos_tag\n",
    "from nltk.stem.wordnet import WordNetLemmatizer\n",
    "from nltk.tag.perceptron import PerceptronTagger\n",
    "\n",
    "import warnings\n",
    "warnings.filterwarnings('ignore')"
   ]
  },
  {
   "cell_type": "code",
   "execution_count": 2,
   "id": "9d3cc8fe",
   "metadata": {},
   "outputs": [],
   "source": [
    "stopwords_list = stopwords.words('english')\n",
    "stopwords_list += list(string.punctuation)\n",
    "stopwords_list += ['``', \"''\", \"’\", \"“\", \"”\"]\n",
    "stopwords_list = set(stopwords_list)"
   ]
  },
  {
   "cell_type": "code",
   "execution_count": 3,
   "id": "141a7405",
   "metadata": {
    "scrolled": false
   },
   "outputs": [
    {
     "data": {
      "text/plain": [
       "{'!',\n",
       " '\"',\n",
       " '#',\n",
       " '$',\n",
       " '%',\n",
       " '&',\n",
       " \"'\",\n",
       " \"''\",\n",
       " '(',\n",
       " ')',\n",
       " '*',\n",
       " '+',\n",
       " ',',\n",
       " '-',\n",
       " '.',\n",
       " '/',\n",
       " ':',\n",
       " ';',\n",
       " '<',\n",
       " '=',\n",
       " '>',\n",
       " '?',\n",
       " '@',\n",
       " '[',\n",
       " '\\\\',\n",
       " ']',\n",
       " '^',\n",
       " '_',\n",
       " '`',\n",
       " '``',\n",
       " 'a',\n",
       " 'about',\n",
       " 'above',\n",
       " 'after',\n",
       " 'again',\n",
       " 'against',\n",
       " 'ain',\n",
       " 'all',\n",
       " 'am',\n",
       " 'an',\n",
       " 'and',\n",
       " 'any',\n",
       " 'are',\n",
       " 'aren',\n",
       " \"aren't\",\n",
       " 'as',\n",
       " 'at',\n",
       " 'be',\n",
       " 'because',\n",
       " 'been',\n",
       " 'before',\n",
       " 'being',\n",
       " 'below',\n",
       " 'between',\n",
       " 'both',\n",
       " 'but',\n",
       " 'by',\n",
       " 'can',\n",
       " 'couldn',\n",
       " \"couldn't\",\n",
       " 'd',\n",
       " 'did',\n",
       " 'didn',\n",
       " \"didn't\",\n",
       " 'do',\n",
       " 'does',\n",
       " 'doesn',\n",
       " \"doesn't\",\n",
       " 'doing',\n",
       " 'don',\n",
       " \"don't\",\n",
       " 'down',\n",
       " 'during',\n",
       " 'each',\n",
       " 'few',\n",
       " 'for',\n",
       " 'from',\n",
       " 'further',\n",
       " 'had',\n",
       " 'hadn',\n",
       " \"hadn't\",\n",
       " 'has',\n",
       " 'hasn',\n",
       " \"hasn't\",\n",
       " 'have',\n",
       " 'haven',\n",
       " \"haven't\",\n",
       " 'having',\n",
       " 'he',\n",
       " 'her',\n",
       " 'here',\n",
       " 'hers',\n",
       " 'herself',\n",
       " 'him',\n",
       " 'himself',\n",
       " 'his',\n",
       " 'how',\n",
       " 'i',\n",
       " 'if',\n",
       " 'in',\n",
       " 'into',\n",
       " 'is',\n",
       " 'isn',\n",
       " \"isn't\",\n",
       " 'it',\n",
       " \"it's\",\n",
       " 'its',\n",
       " 'itself',\n",
       " 'just',\n",
       " 'll',\n",
       " 'm',\n",
       " 'ma',\n",
       " 'me',\n",
       " 'mightn',\n",
       " \"mightn't\",\n",
       " 'more',\n",
       " 'most',\n",
       " 'mustn',\n",
       " \"mustn't\",\n",
       " 'my',\n",
       " 'myself',\n",
       " 'needn',\n",
       " \"needn't\",\n",
       " 'no',\n",
       " 'nor',\n",
       " 'not',\n",
       " 'now',\n",
       " 'o',\n",
       " 'of',\n",
       " 'off',\n",
       " 'on',\n",
       " 'once',\n",
       " 'only',\n",
       " 'or',\n",
       " 'other',\n",
       " 'our',\n",
       " 'ours',\n",
       " 'ourselves',\n",
       " 'out',\n",
       " 'over',\n",
       " 'own',\n",
       " 're',\n",
       " 's',\n",
       " 'same',\n",
       " 'shan',\n",
       " \"shan't\",\n",
       " 'she',\n",
       " \"she's\",\n",
       " 'should',\n",
       " \"should've\",\n",
       " 'shouldn',\n",
       " \"shouldn't\",\n",
       " 'so',\n",
       " 'some',\n",
       " 'such',\n",
       " 't',\n",
       " 'than',\n",
       " 'that',\n",
       " \"that'll\",\n",
       " 'the',\n",
       " 'their',\n",
       " 'theirs',\n",
       " 'them',\n",
       " 'themselves',\n",
       " 'then',\n",
       " 'there',\n",
       " 'these',\n",
       " 'they',\n",
       " 'this',\n",
       " 'those',\n",
       " 'through',\n",
       " 'to',\n",
       " 'too',\n",
       " 'under',\n",
       " 'until',\n",
       " 'up',\n",
       " 've',\n",
       " 'very',\n",
       " 'was',\n",
       " 'wasn',\n",
       " \"wasn't\",\n",
       " 'we',\n",
       " 'were',\n",
       " 'weren',\n",
       " \"weren't\",\n",
       " 'what',\n",
       " 'when',\n",
       " 'where',\n",
       " 'which',\n",
       " 'while',\n",
       " 'who',\n",
       " 'whom',\n",
       " 'why',\n",
       " 'will',\n",
       " 'with',\n",
       " 'won',\n",
       " \"won't\",\n",
       " 'wouldn',\n",
       " \"wouldn't\",\n",
       " 'y',\n",
       " 'you',\n",
       " \"you'd\",\n",
       " \"you'll\",\n",
       " \"you're\",\n",
       " \"you've\",\n",
       " 'your',\n",
       " 'yours',\n",
       " 'yourself',\n",
       " 'yourselves',\n",
       " '{',\n",
       " '|',\n",
       " '}',\n",
       " '~',\n",
       " '’',\n",
       " '“',\n",
       " '”'}"
      ]
     },
     "execution_count": 3,
     "metadata": {},
     "output_type": "execute_result"
    }
   ],
   "source": [
    "stopwords_list"
   ]
  },
  {
   "cell_type": "markdown",
   "id": "34f87533",
   "metadata": {},
   "source": [
    "# Importing data"
   ]
  },
  {
   "cell_type": "code",
   "execution_count": 4,
   "id": "6062a81f",
   "metadata": {},
   "outputs": [],
   "source": [
    "name = 'the_donald_comments'\n",
    "df = pd.read_parquet(path=f'../data/{name}.parquet')"
   ]
  },
  {
   "cell_type": "markdown",
   "id": "d5a32515",
   "metadata": {},
   "source": [
    "# Removing deleted and empty posts"
   ]
  },
  {
   "cell_type": "code",
   "execution_count": 5,
   "id": "6291c899",
   "metadata": {},
   "outputs": [],
   "source": [
    "mask = (df.post == \"[removed]\") | (df.post == \"[deleted]\") | (df.post == \"\")\n",
    "removed_deleted = df[mask]"
   ]
  },
  {
   "cell_type": "code",
   "execution_count": 6,
   "id": "b283d5c3",
   "metadata": {},
   "outputs": [
    {
     "data": {
      "text/html": [
       "<div>\n",
       "<style scoped>\n",
       "    .dataframe tbody tr th:only-of-type {\n",
       "        vertical-align: middle;\n",
       "    }\n",
       "\n",
       "    .dataframe tbody tr th {\n",
       "        vertical-align: top;\n",
       "    }\n",
       "\n",
       "    .dataframe thead th {\n",
       "        text-align: right;\n",
       "    }\n",
       "</style>\n",
       "<table border=\"1\" class=\"dataframe\">\n",
       "  <thead>\n",
       "    <tr style=\"text-align: right;\">\n",
       "      <th></th>\n",
       "      <th>number of removed_deleted posts</th>\n",
       "    </tr>\n",
       "  </thead>\n",
       "  <tbody>\n",
       "    <tr>\n",
       "      <th>removed</th>\n",
       "      <td>82404</td>\n",
       "    </tr>\n",
       "    <tr>\n",
       "      <th>deleted</th>\n",
       "      <td>115711</td>\n",
       "    </tr>\n",
       "    <tr>\n",
       "      <th>empty</th>\n",
       "      <td>122</td>\n",
       "    </tr>\n",
       "  </tbody>\n",
       "</table>\n",
       "</div>"
      ],
      "text/plain": [
       "         number of removed_deleted posts\n",
       "removed                            82404\n",
       "deleted                           115711\n",
       "empty                                122"
      ]
     },
     "execution_count": 6,
     "metadata": {},
     "output_type": "execute_result"
    }
   ],
   "source": [
    "pd.DataFrame({'number of removed_deleted posts': [len(removed_deleted.query(\"post=='[removed]'\")), \n",
    "                                       len(removed_deleted.query(\"post=='[deleted]'\")), \n",
    "                                       len(removed_deleted.query(\"post==''\"))]}, \n",
    "             index=['removed', 'deleted', 'empty'])"
   ]
  },
  {
   "cell_type": "code",
   "execution_count": 7,
   "id": "79089199",
   "metadata": {},
   "outputs": [],
   "source": [
    "# Getting rid of all spam\n",
    "df = df[~mask]"
   ]
  },
  {
   "cell_type": "markdown",
   "id": "07e0632a",
   "metadata": {},
   "source": [
    "# Removing hyperlinks and extraneous characters\n",
    "\n",
    "I use a hyperlink regex provided [here](https://stackoverflow.com/questions/6038061/regular-expression-to-find-urls-within-a-string) to find and replace hyperlinks in my data. The regex wasn't perfect, but it was extremely effective, successfully removing all hyperlinks from >99% of posts that originally had them."
   ]
  },
  {
   "cell_type": "code",
   "execution_count": 8,
   "id": "b0e73830",
   "metadata": {},
   "outputs": [
    {
     "name": "stdout",
     "output_type": "stream",
     "text": [
      "Number of posts with hyperlinks: 108228\n"
     ]
    }
   ],
   "source": [
    "hyperlink_regex = '(http|ftp|https):\\/\\/([\\w_-]+(?:(?:\\.[\\w_-]+)+))([\\w.,@?^=%&:\\/~+#-]*[\\w@?^=%&\\/~+#-])'\n",
    "len_before = len(df[df.post.str.contains('http')])\n",
    "print(f\"Number of posts with hyperlinks: {len_before}\")"
   ]
  },
  {
   "cell_type": "code",
   "execution_count": 9,
   "id": "074cac87",
   "metadata": {},
   "outputs": [],
   "source": [
    "to_replace = [hyperlink_regex, \"&gt;\", \"&lt;\", \"\\n\", \"&amp;\", \"#x200B;\"]\n",
    "\n",
    "def remove_hyperlink(text):\n",
    "    for string in to_replace:\n",
    "        text = re.sub(string, \" \", text)\n",
    "    return text"
   ]
  },
  {
   "cell_type": "code",
   "execution_count": 10,
   "id": "493017ba",
   "metadata": {},
   "outputs": [
    {
     "data": {
      "application/vnd.jupyter.widget-view+json": {
       "model_id": "1e95b9c5b38d42a4a722cd7080fd38bd",
       "version_major": 2,
       "version_minor": 0
      },
      "text/plain": [
       "  0%|          | 0/1894969 [00:00<?, ?it/s]"
      ]
     },
     "metadata": {},
     "output_type": "display_data"
    }
   ],
   "source": [
    "df['hyperlinks_removed'] = df['post'].progress_apply(remove_hyperlink)"
   ]
  },
  {
   "cell_type": "code",
   "execution_count": 11,
   "id": "c4aa2a53",
   "metadata": {},
   "outputs": [
    {
     "name": "stdout",
     "output_type": "stream",
     "text": [
      "Number of posts with hyperlinks after regex removal: 229\n"
     ]
    }
   ],
   "source": [
    "len_after = len(df[df.hyperlinks_removed.str.contains('http')])\n",
    "print(f\"Number of posts with hyperlinks after regex removal: {len_after}\")"
   ]
  },
  {
   "cell_type": "markdown",
   "id": "9a82e6f6",
   "metadata": {},
   "source": [
    "# Tokenizing posts\n",
    "\n",
    "Tokenizing a string turns into a list, where each element is one of the words in the original string. Tokenizing enables easy stopword removal, and the creation of bigrams/trigrams."
   ]
  },
  {
   "cell_type": "code",
   "execution_count": 12,
   "id": "f2557b3d",
   "metadata": {},
   "outputs": [
    {
     "data": {
      "application/vnd.jupyter.widget-view+json": {
       "model_id": "11a35cc49aa048138dbdcea3645a1167",
       "version_major": 2,
       "version_minor": 0
      },
      "text/plain": [
       "  0%|          | 0/1894969 [00:00<?, ?it/s]"
      ]
     },
     "metadata": {},
     "output_type": "display_data"
    }
   ],
   "source": [
    "WORD = re.compile(r'\\w+')\n",
    "df['tokenized'] = df['hyperlinks_removed'].progress_apply(lambda x: WORD.findall(x))"
   ]
  },
  {
   "cell_type": "code",
   "execution_count": 13,
   "id": "04fcdc9d",
   "metadata": {},
   "outputs": [
    {
     "data": {
      "application/vnd.jupyter.widget-view+json": {
       "model_id": "218d00062234422c88762656684a6296",
       "version_major": 2,
       "version_minor": 0
      },
      "text/plain": [
       "  0%|          | 0/1894969 [00:00<?, ?it/s]"
      ]
     },
     "metadata": {},
     "output_type": "display_data"
    }
   ],
   "source": [
    "# Lowercasing words will enable us to create accurate word counts.\n",
    "# If we don't lowercase words, then the word \"Fish\" will be treated differently from the word \"fish,\"\n",
    "# which shouldn't happen.\n",
    "\n",
    "\n",
    "# It will also enable us to remove stopwords; our list of stopwords is all in lowercase.\n",
    "\n",
    "df['lowercase'] = df['tokenized'].progress_apply(lambda x: [w.lower() for w in x])"
   ]
  },
  {
   "cell_type": "markdown",
   "id": "6ce47146",
   "metadata": {},
   "source": [
    "# Removing stopwords\n",
    "\n",
    "Stopwords don't contribute very much to models despite making up a huge chunk of text. They should be removed to improve performance. In total, about half of all the original words were removed. This takes a huge workload off of our models."
   ]
  },
  {
   "cell_type": "code",
   "execution_count": 14,
   "id": "350735f6",
   "metadata": {},
   "outputs": [
    {
     "data": {
      "application/vnd.jupyter.widget-view+json": {
       "model_id": "e4345dcaec1a47bcad01f3559ceeb3d8",
       "version_major": 2,
       "version_minor": 0
      },
      "text/plain": [
       "  0%|          | 0/1894969 [00:00<?, ?it/s]"
      ]
     },
     "metadata": {},
     "output_type": "display_data"
    }
   ],
   "source": [
    "df['stopwords_removed'] = df['lowercase'].progress_apply(lambda x: [w for w in x if w not in stopwords_list])\n",
    "\n",
    "# Joining lists of stopwords into a single string.\n",
    "df['joined'] = df['stopwords_removed'].str.join(\" \")"
   ]
  },
  {
   "cell_type": "code",
   "execution_count": 15,
   "id": "b3f4a265",
   "metadata": {},
   "outputs": [],
   "source": [
    "num_words_after = len(df['stopwords_removed'].explode())\n",
    "num_words_before = len(df['tokenized'].explode())\n",
    "\n",
    "total_stopwords_removed = num_words_before - num_words_after\n",
    "percentage_words_removed = total_stopwords_removed / num_words_before"
   ]
  },
  {
   "cell_type": "code",
   "execution_count": 16,
   "id": "706c48c7",
   "metadata": {},
   "outputs": [
    {
     "name": "stdout",
     "output_type": "stream",
     "text": [
      "A total of 22,372,164 stopwords were removed, which is 48.42% of all original words.\n"
     ]
    }
   ],
   "source": [
    "print(f\"A total of {total_stopwords_removed:,} stopwords were removed, \\\n",
    "which is {percentage_words_removed:.2%} of all original words.\")"
   ]
  },
  {
   "cell_type": "markdown",
   "id": "36d56f4d",
   "metadata": {},
   "source": [
    "# Calculating post lengths\n",
    "\n",
    "This enables us to set a cutoff point for allowed post lengths, and it will also provide helpful visualizations."
   ]
  },
  {
   "cell_type": "code",
   "execution_count": 17,
   "id": "dd4e3ca4",
   "metadata": {},
   "outputs": [],
   "source": [
    "df['lengths'] = df.tokenized.str.len()"
   ]
  },
  {
   "cell_type": "markdown",
   "id": "13a6e6cb",
   "metadata": {},
   "source": [
    "# Creating bigrams and trigrams\n",
    "\n",
    "Bigrams and trigrams are more meaningful units than words that can be helpful when we feature engineer for models.\n",
    "\n",
    "We use tuples instead of lists because tuples are hashable types, which enables us to use functions like **Counter()** in the **collections** library to perform counts on the bigrams & trigrams."
   ]
  },
  {
   "cell_type": "code",
   "execution_count": 18,
   "id": "322d3073",
   "metadata": {},
   "outputs": [
    {
     "data": {
      "application/vnd.jupyter.widget-view+json": {
       "model_id": "5bf3c04f0e7d4c72b7d444eed0f32944",
       "version_major": 2,
       "version_minor": 0
      },
      "text/plain": [
       "  0%|          | 0/1894969 [00:00<?, ?it/s]"
      ]
     },
     "metadata": {},
     "output_type": "display_data"
    },
    {
     "data": {
      "application/vnd.jupyter.widget-view+json": {
       "model_id": "9de25685fa8448b38c045d918ef668ea",
       "version_major": 2,
       "version_minor": 0
      },
      "text/plain": [
       "  0%|          | 0/1894969 [00:00<?, ?it/s]"
      ]
     },
     "metadata": {},
     "output_type": "display_data"
    }
   ],
   "source": [
    "df['bigrams'] = df['stopwords_removed'].progress_apply(lambda x: [tuple([x[i], x[i+1]]) for i in range(len(x)-1)])\n",
    "df['trigrams'] = df['stopwords_removed'].progress_apply(lambda x: [tuple([x[i], x[i+1], x[i+2]]) for i in range(len(x)-2)])"
   ]
  },
  {
   "cell_type": "markdown",
   "id": "96d0412e",
   "metadata": {},
   "source": [
    "# Removing bots"
   ]
  },
  {
   "cell_type": "code",
   "execution_count": 19,
   "id": "be1e37e6",
   "metadata": {},
   "outputs": [
    {
     "name": "stdout",
     "output_type": "stream",
     "text": [
      "Removed 23,027 posts by AutoModerator.\n"
     ]
    }
   ],
   "source": [
    "# Removing posts by the universal reddit bot, AutoModerator\n",
    "mask = df.author=='AutoModerator'\n",
    "auto_moderator_spam = df[mask]\n",
    "df = df[~mask]\n",
    "print(f\"Removed {len(auto_moderator_spam):,} posts by AutoModerator.\")"
   ]
  },
  {
   "cell_type": "code",
   "execution_count": 20,
   "id": "a594fed9",
   "metadata": {},
   "outputs": [
    {
     "name": "stdout",
     "output_type": "stream",
     "text": [
      "Removed 3,987 posts with a bot signature.\n"
     ]
    }
   ],
   "source": [
    "# Removing bots with the bot signature \"bot by u/*reddit_username*\"\n",
    "mask = df.joined.str.contains(' bot u ')\n",
    "bot_signature_spam = df[mask]\n",
    "df = df[~mask]\n",
    "print(f\"Removed {len(bot_signature_spam):,} posts with a bot signature.\")"
   ]
  },
  {
   "cell_type": "code",
   "execution_count": 21,
   "id": "43d0f62b",
   "metadata": {},
   "outputs": [
    {
     "name": "stdout",
     "output_type": "stream",
     "text": [
      "Removed 16,155 posts by authors with the word 'bot' or 'Bot' in their name.\n"
     ]
    }
   ],
   "source": [
    "# Removing bots with the word \"bot\" in their name\n",
    "bot_names = list(df[(df.author.str.contains('bot')) | (df.author.str.contains('Bot'))].author.value_counts().index)\n",
    "mask = df.author.isin(bot_names)\n",
    "bot_name_spam = df[mask]\n",
    "df = df[~mask]\n",
    "print(f\"Removed {len(bot_name_spam):,} posts by authors with the word 'bot' or 'Bot' in their name.\")"
   ]
  },
  {
   "cell_type": "code",
   "execution_count": 22,
   "id": "669d7b0a",
   "metadata": {},
   "outputs": [
    {
     "name": "stdout",
     "output_type": "stream",
     "text": [
      "Removed 637 posts containing the words \"I'm a bot\".\n"
     ]
    }
   ],
   "source": [
    "# Removing authors whose posts contain \"I'm a bot\"\n",
    "im_a_bot = list(df[df.post.str.contains(\"I'm a bot\")].author.value_counts().index)\n",
    "mask = df.post.str.contains(\"I'm a bot\")\n",
    "im_a_bot_spam = df[mask]\n",
    "df = df[~mask]\n",
    "print(f\"\"\"Removed {len(im_a_bot_spam):,} posts containing the words \"I'm a bot\".\"\"\")"
   ]
  },
  {
   "cell_type": "markdown",
   "id": "2dd7405d",
   "metadata": {},
   "source": [
    "# Capping post length at 200 words\n",
    "\n",
    "This fixes a very skewed length distribution that seems to have major outliers."
   ]
  },
  {
   "cell_type": "code",
   "execution_count": 23,
   "id": "79fdd8ce",
   "metadata": {},
   "outputs": [
    {
     "data": {
      "image/png": "[encoded data removed]",
      "text/plain": [
       "<Figure size 1500x500 with 1 Axes>"
      ]
     },
     "metadata": {},
     "output_type": "display_data"
    }
   ],
   "source": [
    "fig, ax = plt.subplots(figsize=(15,5))\n",
    "ax.hist(df.lengths, bins=100)\n",
    "ticks_y = ticker.FuncFormatter(lambda x, pos: '{0:g}'.format(x/100000))\n",
    "ax.yaxis.set_major_formatter(ticks_y)\n",
    "ax.set_ylabel(\"Count(in hundreds of thousands)\")\n",
    "ax.set_title(\"Distribution of post lengths before hard cap of 200 words\");"
   ]
  },
  {
   "cell_type": "code",
   "execution_count": 24,
   "id": "9380a0d7",
   "metadata": {},
   "outputs": [
    {
     "name": "stdout",
     "output_type": "stream",
     "text": [
      "Removed 12,370 posts longer than 200 words.\n"
     ]
    }
   ],
   "source": [
    "mask = df.lengths>200\n",
    "large_posts = df[mask]\n",
    "df = df[~mask]\n",
    "print(f\"Removed {len(large_posts):,} posts longer than 200 words.\")"
   ]
  },
  {
   "cell_type": "code",
   "execution_count": 25,
   "id": "451dd54b",
   "metadata": {},
   "outputs": [
    {
     "data": {
      "image/png": "[encoded data removed]",
      "text/plain": [
       "<Figure size 1500x500 with 1 Axes>"
      ]
     },
     "metadata": {},
     "output_type": "display_data"
    }
   ],
   "source": [
    "fig, ax = plt.subplots(figsize=(15,5))\n",
    "ax.hist(df.lengths, bins=100)\n",
    "ticks_y = ticker.FuncFormatter(lambda x, pos: '{0:g}'.format(x/100000))\n",
    "ax.yaxis.set_major_formatter(ticks_y)\n",
    "ax.set_ylabel(\"Count(in hundreds of thousands)\")\n",
    "ax.set_title(\"Distribution of post lengths after hard cap of 200\");"
   ]
  },
  {
   "cell_type": "markdown",
   "id": "272d051b",
   "metadata": {},
   "source": [
    "# Bounding post score at (-25, 100)\n",
    "\n",
    "This fixes a very skewed score distribution that seems to have major outliers at both ends."
   ]
  },
  {
   "cell_type": "code",
   "execution_count": 26,
   "id": "51fa8ecf",
   "metadata": {},
   "outputs": [
    {
     "data": {
      "image/png": "[encoded data removed]",
      "text/plain": [
       "<Figure size 1500x500 with 1 Axes>"
      ]
     },
     "metadata": {},
     "output_type": "display_data"
    }
   ],
   "source": [
    "fig, ax = plt.subplots(figsize=(15,5))\n",
    "ax.hist(df.score, bins=100)\n",
    "ticks_y = ticker.FuncFormatter(lambda x, pos: '{0:g}'.format(x/100000))\n",
    "ax.yaxis.set_major_formatter(ticks_y)\n",
    "ax.set_ylabel(\"Count(in hundreds of thousands)\")\n",
    "ax.set_title(\"Distribution of post scores before hard bound of (-25, 100)\");"
   ]
  },
  {
   "cell_type": "code",
   "execution_count": 27,
   "id": "ce33fde0",
   "metadata": {},
   "outputs": [
    {
     "data": {
      "text/plain": [
       "(-496, 3716)"
      ]
     },
     "execution_count": 27,
     "metadata": {},
     "output_type": "execute_result"
    }
   ],
   "source": [
    "df.score.min(), df.score.max()"
   ]
  },
  {
   "cell_type": "code",
   "execution_count": 28,
   "id": "7a181dbf",
   "metadata": {},
   "outputs": [
    {
     "name": "stdout",
     "output_type": "stream",
     "text": [
      "Removed 25,157 posts with a score >100 or <-25.\n"
     ]
    }
   ],
   "source": [
    "mask = (df.score>100) | (df.score<-25)\n",
    "extreme_scores = df[mask]\n",
    "df = df[~mask]\n",
    "print(f\"Removed {len(extreme_scores):,} posts with a score >100 or <-25.\")"
   ]
  },
  {
   "cell_type": "code",
   "execution_count": 29,
   "id": "e03089d7",
   "metadata": {},
   "outputs": [
    {
     "data": {
      "image/png": "[encoded data removed]",
      "text/plain": [
       "<Figure size 1500x500 with 1 Axes>"
      ]
     },
     "metadata": {},
     "output_type": "display_data"
    }
   ],
   "source": [
    "fig, ax = plt.subplots(figsize=(15,5))\n",
    "ax.hist(df[~mask].score, bins=100)\n",
    "ticks_y = ticker.FuncFormatter(lambda x, pos: '{0:g}'.format(x/100000))\n",
    "ax.yaxis.set_major_formatter(ticks_y)\n",
    "ax.set_ylabel(\"Count(in hundreds of thousands)\")\n",
    "ax.set_title(\"Distribution of post scores after hard bound of (-25, 100)\");"
   ]
  },
  {
   "cell_type": "markdown",
   "id": "85cac604",
   "metadata": {},
   "source": [
    "# Investigating for spam\n",
    "\n",
    "We want to remove posts that have many consecutivte words or phrases, to avoid skewing our models.\n",
    "\n",
    "- Remove four or more consecutive instances of a unigram\n",
    "- Remove three or more consecutive instances of a bigram\n",
    "- Remove two or more consecutive instances of a trigram"
   ]
  },
  {
   "cell_type": "code",
   "execution_count": 30,
   "id": "5600ad2e",
   "metadata": {},
   "outputs": [],
   "source": [
    "all_unigrams = df.stopwords_removed.explode()\n",
    "all_bigrams = df.bigrams.explode()\n",
    "all_trigrams = df.trigrams.explode()\n",
    "\n",
    "# Finding the most common single-, two-, and three-word phrases.\n",
    "unigrams = Counter(all_unigrams)\n",
    "bigrams = Counter(all_bigrams)\n",
    "trigrams = Counter(all_trigrams)"
   ]
  },
  {
   "cell_type": "code",
   "execution_count": 31,
   "id": "7f5fbc89",
   "metadata": {},
   "outputs": [
    {
     "name": "stdout",
     "output_type": "stream",
     "text": [
      "Removed 313 posts with four or more identical consecutive words.\n"
     ]
    }
   ],
   "source": [
    "most_common_unigrams = unigrams.most_common(150)\n",
    "spam_strings = []\n",
    "\n",
    "for unigram, count in most_common_unigrams:\n",
    "    \n",
    "    # Creates the spam string we're looking for\n",
    "    spam_string = ' '.join([unigram]*4)\n",
    "    spam_strings.append(spam_string)\n",
    "    \n",
    "# Formats the spam strings into a regex so we can search for all of them at once.\n",
    "spam_strings = '|'.join(spam_strings)\n",
    "mask = df.joined.str.contains(spam_strings)\n",
    "unigram_spam = df[mask]\n",
    "df = df[~mask]\n",
    "\n",
    "print(f\"Removed {len(unigram_spam):,} posts with four or more identical consecutive words.\")"
   ]
  },
  {
   "cell_type": "code",
   "execution_count": 32,
   "id": "af4b28ca",
   "metadata": {},
   "outputs": [
    {
     "name": "stdout",
     "output_type": "stream",
     "text": [
      "Removed 105 posts with three or more identical consecutive two-word phrases.\n"
     ]
    }
   ],
   "source": [
    "most_common_bigrams = bigrams.most_common(150)\n",
    "spam_strings = []\n",
    "\n",
    "for bigram, count in most_common_bigrams:\n",
    "    \n",
    "    # Creates the spam string we're looking for\n",
    "    bigram = ' '.join(bigram)\n",
    "    spam_string = ' '.join([bigram]*3)\n",
    "    spam_strings.append(spam_string)\n",
    "    \n",
    "# Formats the spam strings into a regex so we can search for all of them at once.\n",
    "spam_strings = '|'.join(spam_strings)\n",
    "mask = df.joined.str.contains(spam_strings)\n",
    "bigram_spam = df[mask]\n",
    "df = df[~mask]\n",
    "\n",
    "print(f\"Removed {len(bigram_spam):,} posts with three or more identical consecutive two-word phrases.\")"
   ]
  },
  {
   "cell_type": "code",
   "execution_count": 33,
   "id": "9177df1e",
   "metadata": {},
   "outputs": [
    {
     "name": "stdout",
     "output_type": "stream",
     "text": [
      "Removed 291 posts with two or more identical consecutive three-word phrases.\n"
     ]
    }
   ],
   "source": [
    "most_common_trigrams = trigrams.most_common(150)\n",
    "spam_strings = []\n",
    "\n",
    "for trigram, count in most_common_trigrams:\n",
    "    \n",
    "    # Creates the spam string we're looking for\n",
    "    trigram = ' '.join(trigram)\n",
    "    spam_string = ' '.join([trigram]*2)\n",
    "    spam_strings.append(spam_string)\n",
    "    \n",
    "# Formats the spam strings into a regex so we can search for all of them at once.\n",
    "spam_strings = '|'.join(spam_strings)\n",
    "mask = df.joined.str.contains(spam_strings)\n",
    "trigram_spam = df[mask]\n",
    "df = df[~mask]\n",
    "\n",
    "print(f\"Removed {len(trigram_spam):,} posts with two or more identical consecutive three-word phrases.\")"
   ]
  },
  {
   "cell_type": "code",
   "execution_count": 34,
   "id": "2a4a6caa",
   "metadata": {},
   "outputs": [
    {
     "name": "stdout",
     "output_type": "stream",
     "text": [
      "Manually removed 227 spam posts that eluded all previous measures to remove it.\n"
     ]
    }
   ],
   "source": [
    "mask = df.joined.str.contains('source script protect')\n",
    "script_spam = df[mask]\n",
    "df = df[~mask]\n",
    "\n",
    "print(f\"Manually removed {len(script_spam):,} spam posts that eluded all previous measures to remove it.\")"
   ]
  },
  {
   "cell_type": "markdown",
   "id": "0e1bebf9",
   "metadata": {},
   "source": [
    "# Storing data externally"
   ]
  },
  {
   "cell_type": "code",
   "execution_count": 35,
   "id": "8ad2379a",
   "metadata": {},
   "outputs": [],
   "source": [
    "# Storing preprocessed dataframe\n",
    "df.to_parquet(path=f'../data/{name}_preprocessed.parquet')"
   ]
  },
  {
   "cell_type": "code",
   "execution_count": 36,
   "id": "60770227",
   "metadata": {},
   "outputs": [],
   "source": [
    "#Storing spam\n",
    "spams = [removed_deleted,\n",
    "         auto_moderator_spam, \n",
    "         bot_signature_spam, \n",
    "         bot_name_spam, \n",
    "         im_a_bot_spam, \n",
    "         unigram_spam, \n",
    "         bigram_spam, \n",
    "         trigram_spam, \n",
    "         script_spam, \n",
    "         large_posts]\n",
    "\n",
    "spam = pd.concat(spams)[['date', 'author', 'post', 'score']]\n",
    "spam.to_parquet(path=f'../data/{name}_spam.parquet')"
   ]
  },
  {
   "cell_type": "code",
   "execution_count": null,
   "id": "626ad6d1",
   "metadata": {},
   "outputs": [],
   "source": [
    "# Re-calculating word counts for feature engineering\n",
    "all_unigrams = df.stopwords_removed.explode()\n",
    "all_bigrams = df.bigrams.explode()\n",
    "all_trigrams = df.trigrams.explode()\n",
    "\n",
    "unigrams = Counter(all_unigrams)\n",
    "bigrams = Counter(all_bigrams)\n",
    "trigrams = Counter(all_trigrams)"
   ]
  },
  {
   "cell_type": "code",
   "execution_count": null,
   "id": "04b24ee7",
   "metadata": {},
   "outputs": [],
   "source": [
    "# Exporting lists of top 100 single-, two-, and three-word phrases\n",
    "\n",
    "pd.DataFrame({'unigram': [x[0] for x in unigrams.most_common(1000)], \n",
    "              'count': [x[1] for x in unigrams.most_common(1000)]})\\\n",
    "            .sort_values(by='count', ascending=False)\\\n",
    "            .to_parquet(path=f'../data/{name}_unigrams.parquet')\n",
    "\n",
    "pd.DataFrame({'bigram': [x[0] for x in bigrams.most_common(1000)], \n",
    "              'count': [x[1] for x in bigrams.most_common(1000)]})\\\n",
    "            .sort_values(by='count', ascending=False)\\\n",
    "            .to_parquet(path=f'../data/{name}_bigrams.parquet')\n",
    "\n",
    "pd.DataFrame({'trigram': [x[0] for x in trigrams.most_common(1000)], \n",
    "              'count': [x[1] for x in trigrams.most_common(1000)]})\\\n",
    "            .sort_values(by='count', ascending=False)\\\n",
    "            .to_parquet(path=f'../data/{name}_trigrams.parquet')"
   ]
  },
  {
   "cell_type": "markdown",
   "id": "e6a30da5",
   "metadata": {},
   "source": [
    "# Appendix"
   ]
  },
  {
   "cell_type": "code",
   "execution_count": null,
   "id": "76757831",
   "metadata": {
    "scrolled": true
   },
   "outputs": [],
   "source": [
    "# Example of large_posts\n",
    "large_posts[large_posts.joined.str.contains('isis isis isis')].post.iloc[0]"
   ]
  },
  {
   "cell_type": "code",
   "execution_count": null,
   "id": "d4de21aa",
   "metadata": {
    "scrolled": true
   },
   "outputs": [],
   "source": [
    "# What AutoModerator's posts look like\n",
    "auto_moderator_spam.head()"
   ]
  },
  {
   "cell_type": "code",
   "execution_count": null,
   "id": "39d0a6a0",
   "metadata": {
    "scrolled": true
   },
   "outputs": [],
   "source": [
    "# I decided to remove posts that had \"bot u\" after stopwords had been removed.\n",
    "# I took this to mean that there was originally a \"bot by u/reddit_username\"\n",
    "# at the end of the post, meaning the post was made by a bot.\n",
    "# These are the posts that got removed due to this measure.\n",
    "\n",
    "for bot in bot_signature_spam.author.unique():\n",
    "    bot_posts = bot_signature_spam[bot_signature_spam.author==bot][['post']]\n",
    "    display(bot_posts.head().style.set_caption(f\"Author: {bot}, number of posts: {len(bot_posts)}\"))\n",
    "    print('\\n\\n')"
   ]
  },
  {
   "cell_type": "code",
   "execution_count": null,
   "id": "3d002d35",
   "metadata": {
    "scrolled": true
   },
   "outputs": [],
   "source": [
    "# I decided to remove all posts made by authors with \"bot\" or \"Bot\" in their names.\n",
    "# Not all authors with a name like this were actually bots, but they were infested with bots.\n",
    "# Being that these posts were already a small part of the existing posts, it was not worth\n",
    "# manually finding all the actual bots.\n",
    "# These are the posts that got removed due to this measure.\n",
    "\n",
    "for bot in bot_name_spam.author.value_counts().index:\n",
    "    bot_posts = bot_name_spam[bot_name_spam.author==bot][['post']]\n",
    "    display(bot_posts.head().style.set_caption(f\"Author: {bot}, number of posts: {len(bot_posts)}\"))\n",
    "    print('\\n\\n')"
   ]
  },
  {
   "cell_type": "code",
   "execution_count": null,
   "id": "3d49f9f1",
   "metadata": {
    "scrolled": true
   },
   "outputs": [],
   "source": [
    "# I decided to remove all posts that contained the text \"I'm a bot\".\n",
    "# Not all were made by bots, but most were.\n",
    "\n",
    "for bot in im_a_bot_spam.author.value_counts().index[:50]:\n",
    "    bot_posts = im_a_bot_spam[im_a_bot_spam.author==bot][['post']]\n",
    "    display(bot_posts.head().style.set_caption(f\"Author: {bot}, number of posts: {len(bot_posts)}\"))\n",
    "    print('\\n\\n')"
   ]
  },
  {
   "cell_type": "code",
   "execution_count": null,
   "id": "cf5d8a03",
   "metadata": {
    "scrolled": true
   },
   "outputs": [],
   "source": [
    "# Elusive spam that evaded all previous attempts to remove it.\n",
    "\n",
    "script_spam"
   ]
  }
 ],
 "metadata": {
  "kernelspec": {
   "display_name": "Python (learn-env)",
   "language": "python",
   "name": "learn-env"
  },
  "language_info": {
   "codemirror_mode": {
    "name": "ipython",
    "version": 3
   },
   "file_extension": ".py",
   "mimetype": "text/x-python",
   "name": "python",
   "nbconvert_exporter": "python",
   "pygments_lexer": "ipython3",
   "version": "3.11.6"
  }
 },
 "nbformat": 4,
 "nbformat_minor": 5
}
